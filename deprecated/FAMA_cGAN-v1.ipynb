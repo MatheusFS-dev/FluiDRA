{
 "cells": [
  {
   "cell_type": "markdown",
   "metadata": {},
   "source": [
    "\n",
    "# cGAN Code for SINR Estimation\n",
    "\n",
    "- **Author:** Matheus Ferreira Silva \n",
    "- **Email:** matheus.ferreira@get.inatel.br\n",
    "- **Date:** September 2024"
   ]
  },
  {
   "cell_type": "markdown",
   "metadata": {},
   "source": [
    "## Imports"
   ]
  },
  {
   "cell_type": "code",
   "execution_count": 1,
   "metadata": {},
   "outputs": [
    {
     "name": "stderr",
     "output_type": "stream",
     "text": [
      "2024-09-20 10:57:10.081879: E external/local_xla/xla/stream_executor/cuda/cuda_fft.cc:485] Unable to register cuFFT factory: Attempting to register factory for plugin cuFFT when one has already been registered\n",
      "2024-09-20 10:57:10.093050: E external/local_xla/xla/stream_executor/cuda/cuda_dnn.cc:8454] Unable to register cuDNN factory: Attempting to register factory for plugin cuDNN when one has already been registered\n",
      "2024-09-20 10:57:10.096312: E external/local_xla/xla/stream_executor/cuda/cuda_blas.cc:1452] Unable to register cuBLAS factory: Attempting to register factory for plugin cuBLAS when one has already been registered\n"
     ]
    }
   ],
   "source": [
    "import os\n",
    "os.environ['TF_CPP_MIN_LOG_LEVEL'] = '2'  # Disable TensorFlow warnings\n",
    "\n",
    "import keras\n",
    "import scipy.io\n",
    "import numpy as np\n",
    "import tensorflow as tf\n",
    "from tensorflow.keras.utils import plot_model\n",
    "from tensorflow.keras.callbacks import Callback\n",
    "from sklearn.preprocessing import MinMaxScaler\n",
    "from keras import layers, Input, Model\n",
    "import matplotlib.pyplot as plt\n",
    "import matplotlib.ticker as ticker\n"
   ]
  },
  {
   "cell_type": "markdown",
   "metadata": {},
   "source": [
    "## Utils"
   ]
  },
  {
   "cell_type": "code",
   "execution_count": 2,
   "metadata": {},
   "outputs": [],
   "source": [
    "def create_prediction_folder():\n",
    "    \"\"\"\n",
    "    Creates a new 'predictX' folder in the 'runs' directory.\n",
    "    It checks for the highest numbered folder and increments the number for the new folder.\n",
    "\n",
    "    Returns:\n",
    "        str: Path to the newly created prediction folder.\n",
    "    \"\"\"\n",
    "    runs_folder = 'runs'\n",
    "    \n",
    "    # Create the 'runs' folder if it doesn't exist\n",
    "    if not os.path.exists(runs_folder):\n",
    "        os.makedirs(runs_folder)\n",
    "    \n",
    "    # Get the current highest 'predictX' folder number\n",
    "    existing_folders = [f for f in os.listdir(runs_folder) if f.startswith('predict')]\n",
    "    if existing_folders:\n",
    "        max_number = max([int(f.replace('predict', '')) for f in existing_folders])\n",
    "    else:\n",
    "        max_number = 0\n",
    "    \n",
    "    # Create the new 'predictX' folder\n",
    "    new_folder_name = f'predict{max_number + 1}'\n",
    "    new_folder_path = os.path.join(runs_folder, new_folder_name)\n",
    "    os.makedirs(new_folder_path)\n",
    "    \n",
    "    return new_folder_path\n",
    "\n",
    "# Folder to save prediction results\n",
    "# folder_to_save = create_prediction_folder()"
   ]
  },
  {
   "cell_type": "markdown",
   "metadata": {},
   "source": [
    "## GPU"
   ]
  },
  {
   "cell_type": "code",
   "execution_count": 3,
   "metadata": {},
   "outputs": [
    {
     "name": "stdout",
     "output_type": "stream",
     "text": [
      "Available GPU(s): ['/physical_device:GPU:0']\n",
      "Using GPU: /device:GPU:0\n",
      "TensorFlow version: 2.17.0\n",
      "TensorFlow is built with CUDA support\n",
      "CUDA version: 12.3\n",
      "cuDNN version: 8\n"
     ]
    },
    {
     "name": "stderr",
     "output_type": "stream",
     "text": [
      "WARNING: All log messages before absl::InitializeLog() is called are written to STDERR\n",
      "I0000 00:00:1726840632.680886  765344 cuda_executor.cc:1015] successful NUMA node read from SysFS had negative value (-1), but there must be at least one NUMA node, so returning NUMA node zero. See more at https://github.com/torvalds/linux/blob/v6.0/Documentation/ABI/testing/sysfs-bus-pci#L344-L355\n",
      "I0000 00:00:1726840632.718795  765344 cuda_executor.cc:1015] successful NUMA node read from SysFS had negative value (-1), but there must be at least one NUMA node, so returning NUMA node zero. See more at https://github.com/torvalds/linux/blob/v6.0/Documentation/ABI/testing/sysfs-bus-pci#L344-L355\n",
      "I0000 00:00:1726840632.729392  765344 cuda_executor.cc:1015] successful NUMA node read from SysFS had negative value (-1), but there must be at least one NUMA node, so returning NUMA node zero. See more at https://github.com/torvalds/linux/blob/v6.0/Documentation/ABI/testing/sysfs-bus-pci#L344-L355\n",
      "I0000 00:00:1726840632.741455  765344 cuda_executor.cc:1015] successful NUMA node read from SysFS had negative value (-1), but there must be at least one NUMA node, so returning NUMA node zero. See more at https://github.com/torvalds/linux/blob/v6.0/Documentation/ABI/testing/sysfs-bus-pci#L344-L355\n",
      "I0000 00:00:1726840632.748179  765344 cuda_executor.cc:1015] successful NUMA node read from SysFS had negative value (-1), but there must be at least one NUMA node, so returning NUMA node zero. See more at https://github.com/torvalds/linux/blob/v6.0/Documentation/ABI/testing/sysfs-bus-pci#L344-L355\n",
      "I0000 00:00:1726840632.761160  765344 cuda_executor.cc:1015] successful NUMA node read from SysFS had negative value (-1), but there must be at least one NUMA node, so returning NUMA node zero. See more at https://github.com/torvalds/linux/blob/v6.0/Documentation/ABI/testing/sysfs-bus-pci#L344-L355\n",
      "I0000 00:00:1726840632.910908  765344 cuda_executor.cc:1015] successful NUMA node read from SysFS had negative value (-1), but there must be at least one NUMA node, so returning NUMA node zero. See more at https://github.com/torvalds/linux/blob/v6.0/Documentation/ABI/testing/sysfs-bus-pci#L344-L355\n",
      "I0000 00:00:1726840632.913680  765344 cuda_executor.cc:1015] successful NUMA node read from SysFS had negative value (-1), but there must be at least one NUMA node, so returning NUMA node zero. See more at https://github.com/torvalds/linux/blob/v6.0/Documentation/ABI/testing/sysfs-bus-pci#L344-L355\n",
      "I0000 00:00:1726840632.915563  765344 cuda_executor.cc:1015] successful NUMA node read from SysFS had negative value (-1), but there must be at least one NUMA node, so returning NUMA node zero. See more at https://github.com/torvalds/linux/blob/v6.0/Documentation/ABI/testing/sysfs-bus-pci#L344-L355\n"
     ]
    }
   ],
   "source": [
    "# Specify GPU to use (e.g., GPU 0)\n",
    "os.environ[\"CUDA_VISIBLE_DEVICES\"] = \"0\"\n",
    "\n",
    "# Check if GPU is available\n",
    "gpus = tf.config.list_physical_devices('GPU')\n",
    "\n",
    "if gpus:\n",
    "    print(f\"Available GPU(s): {[gpu.name for gpu in gpus]}\")\n",
    "    print(f\"Using GPU: {tf.test.gpu_device_name()}\")\n",
    "else:\n",
    "    print(\"No GPU detected. Running on CPU.\")\n",
    "\n",
    "# Display TensorFlow version and CUDA/cuDNN information if available\n",
    "print(f\"TensorFlow version: {tf.__version__}\")\n",
    "\n",
    "if tf.test.is_built_with_cuda():\n",
    "    build_info = tf.sysconfig.get_build_info()\n",
    "    print(f\"TensorFlow is built with CUDA support\")\n",
    "    print(f\"CUDA version: {build_info['cuda_version']}\")\n",
    "    print(f\"cuDNN version: {build_info['cudnn_version']}\")\n",
    "else:\n",
    "    print(\"Running on CPU (No CUDA support detected).\")\n"
   ]
  },
  {
   "cell_type": "markdown",
   "metadata": {},
   "source": [
    "## Constants and hyperparameters"
   ]
  },
  {
   "cell_type": "code",
   "execution_count": 4,
   "metadata": {},
   "outputs": [],
   "source": [
    "num_ports = 144  # Total number of ports (N = 144)\n",
    "\n",
    "# The observed ports are the context for the GAN, they are not classes, \n",
    "# but a context used to provide to the generator an idea of what the generator is going to generate\n",
    "observed_ports = int(0.2 * num_ports)  # 20% of total ports used as observed ports\n",
    "\n",
    "latent_dim = 128  # Latent space dimension (random noise)\n",
    "batch_size = 32  # Batch size for training\n",
    "\n",
    "height = int(np.sqrt(num_ports))\n",
    "width = int(np.sqrt(num_ports))\n",
    "channels = 1 # SINR data has 1 channel (real values)"
   ]
  },
  {
   "cell_type": "markdown",
   "metadata": {},
   "source": [
    "## Load and Preprocess Data"
   ]
  },
  {
   "cell_type": "code",
   "execution_count": 5,
   "metadata": {},
   "outputs": [],
   "source": [
    "def generate_sinr_data(num_samples=10000):\n",
    "    \"\"\"\n",
    "    Generates random SINR (Signal to Interference plus Noise Ratio) data for training.\n",
    "\n",
    "    Args:\n",
    "        num_samples (int): Number of SINR samples to generate.\n",
    "\n",
    "    Returns:\n",
    "        sinr_data (np.array): Generated SINR data of shape (num_samples, height, width).\n",
    "    \"\"\"\n",
    "    # Generate random SINR values following the Rayleigh distribution\n",
    "    sinr_data = np.random.rayleigh(scale=1, size=(num_samples, height, width, channels))\n",
    "    return sinr_data\n",
    "\n",
    "\n",
    "def get_observed_ports(sinr_data, num_samples):\n",
    "    \"\"\" \"\n",
    "    Extracts linearly spaced observed ports from the SINR data.\n",
    "\n",
    "    Args:\n",
    "        sinr_data (np.array): Full SINR data of shape (num_samples, height, width, channels).\n",
    "        num_ports (int): Total number of ports (height * width).\n",
    "        observed_ports (int): Number of observed ports.\n",
    "\n",
    "    Returns:\n",
    "        observed_sinr (np.array): Linearly spaced subset of SINR data of shape (num_samples, observed_height, observed_width, channels).\n",
    "    \"\"\"\n",
    "\n",
    "    # Create a grid of coordinates representing the (height, width) indices\n",
    "    indices = np.linspace(0, num_ports - 1, observed_ports, dtype=int)  # Get linearly spaced indices\n",
    "    selected_rows = np.floor(indices // width).astype(int)  # Get row indices\n",
    "    selected_cols = np.mod(indices, width).astype(int)  # Get column indices\n",
    "\n",
    "    # Initialize the observed SINR data array\n",
    "    observed_sinr = np.zeros((num_samples, observed_ports, 1, channels))\n",
    "\n",
    "    # Gather the observed SINR values from the corresponding linearly spaced ports\n",
    "    for i in range(observed_ports):\n",
    "        observed_sinr[:, i, 0, :] = sinr_data[:, selected_rows[i], selected_cols[i], :]\n",
    "\n",
    "    return observed_sinr\n",
    "\n",
    "\n",
    "def load_sinr_data(filepath, key=\"gamma_k\"):\n",
    "    \"\"\"\n",
    "    Loads the SINR data from a .mat file and reshapes it.\n",
    "\n",
    "    Args:\n",
    "        filepath (str): Path to the .mat file containing SINR data.\n",
    "        key (str): Key to access the SINR matrix inside the .mat file.\n",
    "\n",
    "    Returns:\n",
    "        sinr_data (np.array): Loaded and reshaped SINR data of shape (num_samples, height, width, channels).\n",
    "    \"\"\"\n",
    "    # Load the .mat file\n",
    "    mat = scipy.io.loadmat(filepath)\n",
    "\n",
    "    # Extract the SINR matrix\n",
    "    sinr_matrix = mat[key]\n",
    "\n",
    "    # Reshape the SINR matrix to match the expected input format\n",
    "    num_samples = sinr_matrix.shape[0]\n",
    "    sinr_data = sinr_matrix.reshape(num_samples, height, width, channels)\n",
    "\n",
    "    return sinr_data"
   ]
  },
  {
   "cell_type": "code",
   "execution_count": 6,
   "metadata": {},
   "outputs": [
    {
     "name": "stdout",
     "output_type": "stream",
     "text": [
      "SINR data shape: (40000, 12, 12, 1)\n",
      "Observed SINR data shape: (40000, 28, 1, 1)\n"
     ]
    },
    {
     "name": "stderr",
     "output_type": "stream",
     "text": [
      "I0000 00:00:1726840633.270071  765344 cuda_executor.cc:1015] successful NUMA node read from SysFS had negative value (-1), but there must be at least one NUMA node, so returning NUMA node zero. See more at https://github.com/torvalds/linux/blob/v6.0/Documentation/ABI/testing/sysfs-bus-pci#L344-L355\n",
      "I0000 00:00:1726840633.272330  765344 cuda_executor.cc:1015] successful NUMA node read from SysFS had negative value (-1), but there must be at least one NUMA node, so returning NUMA node zero. See more at https://github.com/torvalds/linux/blob/v6.0/Documentation/ABI/testing/sysfs-bus-pci#L344-L355\n",
      "I0000 00:00:1726840633.274086  765344 cuda_executor.cc:1015] successful NUMA node read from SysFS had negative value (-1), but there must be at least one NUMA node, so returning NUMA node zero. See more at https://github.com/torvalds/linux/blob/v6.0/Documentation/ABI/testing/sysfs-bus-pci#L344-L355\n",
      "I0000 00:00:1726840633.275930  765344 cuda_executor.cc:1015] successful NUMA node read from SysFS had negative value (-1), but there must be at least one NUMA node, so returning NUMA node zero. See more at https://github.com/torvalds/linux/blob/v6.0/Documentation/ABI/testing/sysfs-bus-pci#L344-L355\n",
      "I0000 00:00:1726840633.278129  765344 cuda_executor.cc:1015] successful NUMA node read from SysFS had negative value (-1), but there must be at least one NUMA node, so returning NUMA node zero. See more at https://github.com/torvalds/linux/blob/v6.0/Documentation/ABI/testing/sysfs-bus-pci#L344-L355\n"
     ]
    }
   ],
   "source": [
    "# Load the SINR data from the .mat file\n",
    "sinr_data = load_sinr_data('data/dataset_SINR_kappa_mu_shadowed/SINR.mat')\n",
    "\n",
    "# ----------------------- Normalize Using MinMaxScaler ----------------------- #\n",
    "# Reshape the SINR data to a 2D array for scaling\n",
    "sinr_data_flat = sinr_data.reshape(-1, 1)\n",
    "\n",
    "# Initialize MinMaxScaler and scale the SINR data\n",
    "scaler = MinMaxScaler(feature_range=(0, 1))\n",
    "sinr_data_scaled = scaler.fit_transform(sinr_data_flat)\n",
    "\n",
    "# Reshape back to the original shape\n",
    "sinr_data = sinr_data_scaled.reshape(sinr_data.shape[0], height, width, channels)\n",
    "\n",
    "# Cast sinr_data to float32\n",
    "sinr_data = sinr_data.astype(np.float32)\n",
    "# ------------------------------------- - ------------------------------------ #\n",
    "\n",
    "# Generate observed SINR data\n",
    "observed_sinr = get_observed_ports(sinr_data, num_samples=sinr_data.shape[0])\n",
    "\n",
    "# Cast observed_sinr to float32\n",
    "observed_sinr = observed_sinr.astype(np.float32)\n",
    "\n",
    "# Print the shape of the SINR data\n",
    "print(\"SINR data shape:\", sinr_data.shape)\n",
    "print(\"Observed SINR data shape:\", observed_sinr.shape)\n",
    "\n",
    "# Create a TensorFlow dataset from the SINR data\n",
    "dataset = tf.data.Dataset.from_tensor_slices((sinr_data, observed_sinr)).batch(batch_size)"
   ]
  },
  {
   "cell_type": "markdown",
   "metadata": {},
   "source": [
    "## cGAN Model training"
   ]
  },
  {
   "cell_type": "markdown",
   "metadata": {},
   "source": [
    "#### Generator"
   ]
  },
  {
   "cell_type": "code",
   "execution_count": 7,
   "metadata": {},
   "outputs": [
    {
     "data": {
      "text/html": [
       "<pre style=\"white-space:pre;overflow-x:auto;line-height:normal;font-family:Menlo,'DejaVu Sans Mono',consolas,'Courier New',monospace\"><span style=\"font-weight: bold\">Model: \"functional\"</span>\n",
       "</pre>\n"
      ],
      "text/plain": [
       "\u001b[1mModel: \"functional\"\u001b[0m\n"
      ]
     },
     "metadata": {},
     "output_type": "display_data"
    },
    {
     "data": {
      "text/html": [
       "<pre style=\"white-space:pre;overflow-x:auto;line-height:normal;font-family:Menlo,'DejaVu Sans Mono',consolas,'Courier New',monospace\">┏━━━━━━━━━━━━━━━━━━━━━━━━━━━━━━━━━┳━━━━━━━━━━━━━━━━━━━━━━━━┳━━━━━━━━━━━━━━━┓\n",
       "┃<span style=\"font-weight: bold\"> Layer (type)                    </span>┃<span style=\"font-weight: bold\"> Output Shape           </span>┃<span style=\"font-weight: bold\">       Param # </span>┃\n",
       "┡━━━━━━━━━━━━━━━━━━━━━━━━━━━━━━━━━╇━━━━━━━━━━━━━━━━━━━━━━━━╇━━━━━━━━━━━━━━━┩\n",
       "│ input_layer (<span style=\"color: #0087ff; text-decoration-color: #0087ff\">InputLayer</span>)        │ (<span style=\"color: #00d7ff; text-decoration-color: #00d7ff\">None</span>, <span style=\"color: #00af00; text-decoration-color: #00af00\">156</span>)            │             <span style=\"color: #00af00; text-decoration-color: #00af00\">0</span> │\n",
       "├─────────────────────────────────┼────────────────────────┼───────────────┤\n",
       "│ dense (<span style=\"color: #0087ff; text-decoration-color: #0087ff\">Dense</span>)                   │ (<span style=\"color: #00d7ff; text-decoration-color: #00d7ff\">None</span>, <span style=\"color: #00af00; text-decoration-color: #00af00\">27</span>)             │         <span style=\"color: #00af00; text-decoration-color: #00af00\">4,239</span> │\n",
       "├─────────────────────────────────┼────────────────────────┼───────────────┤\n",
       "│ leaky_re_lu (<span style=\"color: #0087ff; text-decoration-color: #0087ff\">LeakyReLU</span>)         │ (<span style=\"color: #00d7ff; text-decoration-color: #00d7ff\">None</span>, <span style=\"color: #00af00; text-decoration-color: #00af00\">27</span>)             │             <span style=\"color: #00af00; text-decoration-color: #00af00\">0</span> │\n",
       "├─────────────────────────────────┼────────────────────────┼───────────────┤\n",
       "│ reshape (<span style=\"color: #0087ff; text-decoration-color: #0087ff\">Reshape</span>)               │ (<span style=\"color: #00d7ff; text-decoration-color: #00d7ff\">None</span>, <span style=\"color: #00af00; text-decoration-color: #00af00\">3</span>, <span style=\"color: #00af00; text-decoration-color: #00af00\">3</span>, <span style=\"color: #00af00; text-decoration-color: #00af00\">3</span>)        │             <span style=\"color: #00af00; text-decoration-color: #00af00\">0</span> │\n",
       "├─────────────────────────────────┼────────────────────────┼───────────────┤\n",
       "│ conv2d_transpose                │ (<span style=\"color: #00d7ff; text-decoration-color: #00d7ff\">None</span>, <span style=\"color: #00af00; text-decoration-color: #00af00\">6</span>, <span style=\"color: #00af00; text-decoration-color: #00af00\">6</span>, <span style=\"color: #00af00; text-decoration-color: #00af00\">128</span>)      │         <span style=\"color: #00af00; text-decoration-color: #00af00\">6,272</span> │\n",
       "│ (<span style=\"color: #0087ff; text-decoration-color: #0087ff\">Conv2DTranspose</span>)               │                        │               │\n",
       "├─────────────────────────────────┼────────────────────────┼───────────────┤\n",
       "│ leaky_re_lu_1 (<span style=\"color: #0087ff; text-decoration-color: #0087ff\">LeakyReLU</span>)       │ (<span style=\"color: #00d7ff; text-decoration-color: #00d7ff\">None</span>, <span style=\"color: #00af00; text-decoration-color: #00af00\">6</span>, <span style=\"color: #00af00; text-decoration-color: #00af00\">6</span>, <span style=\"color: #00af00; text-decoration-color: #00af00\">128</span>)      │             <span style=\"color: #00af00; text-decoration-color: #00af00\">0</span> │\n",
       "├─────────────────────────────────┼────────────────────────┼───────────────┤\n",
       "│ conv2d_transpose_1              │ (<span style=\"color: #00d7ff; text-decoration-color: #00d7ff\">None</span>, <span style=\"color: #00af00; text-decoration-color: #00af00\">12</span>, <span style=\"color: #00af00; text-decoration-color: #00af00\">12</span>, <span style=\"color: #00af00; text-decoration-color: #00af00\">128</span>)    │       <span style=\"color: #00af00; text-decoration-color: #00af00\">262,272</span> │\n",
       "│ (<span style=\"color: #0087ff; text-decoration-color: #0087ff\">Conv2DTranspose</span>)               │                        │               │\n",
       "├─────────────────────────────────┼────────────────────────┼───────────────┤\n",
       "│ leaky_re_lu_2 (<span style=\"color: #0087ff; text-decoration-color: #0087ff\">LeakyReLU</span>)       │ (<span style=\"color: #00d7ff; text-decoration-color: #00d7ff\">None</span>, <span style=\"color: #00af00; text-decoration-color: #00af00\">12</span>, <span style=\"color: #00af00; text-decoration-color: #00af00\">12</span>, <span style=\"color: #00af00; text-decoration-color: #00af00\">128</span>)    │             <span style=\"color: #00af00; text-decoration-color: #00af00\">0</span> │\n",
       "├─────────────────────────────────┼────────────────────────┼───────────────┤\n",
       "│ conv2d (<span style=\"color: #0087ff; text-decoration-color: #0087ff\">Conv2D</span>)                 │ (<span style=\"color: #00d7ff; text-decoration-color: #00d7ff\">None</span>, <span style=\"color: #00af00; text-decoration-color: #00af00\">12</span>, <span style=\"color: #00af00; text-decoration-color: #00af00\">12</span>, <span style=\"color: #00af00; text-decoration-color: #00af00\">1</span>)      │         <span style=\"color: #00af00; text-decoration-color: #00af00\">1,153</span> │\n",
       "└─────────────────────────────────┴────────────────────────┴───────────────┘\n",
       "</pre>\n"
      ],
      "text/plain": [
       "┏━━━━━━━━━━━━━━━━━━━━━━━━━━━━━━━━━┳━━━━━━━━━━━━━━━━━━━━━━━━┳━━━━━━━━━━━━━━━┓\n",
       "┃\u001b[1m \u001b[0m\u001b[1mLayer (type)                   \u001b[0m\u001b[1m \u001b[0m┃\u001b[1m \u001b[0m\u001b[1mOutput Shape          \u001b[0m\u001b[1m \u001b[0m┃\u001b[1m \u001b[0m\u001b[1m      Param #\u001b[0m\u001b[1m \u001b[0m┃\n",
       "┡━━━━━━━━━━━━━━━━━━━━━━━━━━━━━━━━━╇━━━━━━━━━━━━━━━━━━━━━━━━╇━━━━━━━━━━━━━━━┩\n",
       "│ input_layer (\u001b[38;5;33mInputLayer\u001b[0m)        │ (\u001b[38;5;45mNone\u001b[0m, \u001b[38;5;34m156\u001b[0m)            │             \u001b[38;5;34m0\u001b[0m │\n",
       "├─────────────────────────────────┼────────────────────────┼───────────────┤\n",
       "│ dense (\u001b[38;5;33mDense\u001b[0m)                   │ (\u001b[38;5;45mNone\u001b[0m, \u001b[38;5;34m27\u001b[0m)             │         \u001b[38;5;34m4,239\u001b[0m │\n",
       "├─────────────────────────────────┼────────────────────────┼───────────────┤\n",
       "│ leaky_re_lu (\u001b[38;5;33mLeakyReLU\u001b[0m)         │ (\u001b[38;5;45mNone\u001b[0m, \u001b[38;5;34m27\u001b[0m)             │             \u001b[38;5;34m0\u001b[0m │\n",
       "├─────────────────────────────────┼────────────────────────┼───────────────┤\n",
       "│ reshape (\u001b[38;5;33mReshape\u001b[0m)               │ (\u001b[38;5;45mNone\u001b[0m, \u001b[38;5;34m3\u001b[0m, \u001b[38;5;34m3\u001b[0m, \u001b[38;5;34m3\u001b[0m)        │             \u001b[38;5;34m0\u001b[0m │\n",
       "├─────────────────────────────────┼────────────────────────┼───────────────┤\n",
       "│ conv2d_transpose                │ (\u001b[38;5;45mNone\u001b[0m, \u001b[38;5;34m6\u001b[0m, \u001b[38;5;34m6\u001b[0m, \u001b[38;5;34m128\u001b[0m)      │         \u001b[38;5;34m6,272\u001b[0m │\n",
       "│ (\u001b[38;5;33mConv2DTranspose\u001b[0m)               │                        │               │\n",
       "├─────────────────────────────────┼────────────────────────┼───────────────┤\n",
       "│ leaky_re_lu_1 (\u001b[38;5;33mLeakyReLU\u001b[0m)       │ (\u001b[38;5;45mNone\u001b[0m, \u001b[38;5;34m6\u001b[0m, \u001b[38;5;34m6\u001b[0m, \u001b[38;5;34m128\u001b[0m)      │             \u001b[38;5;34m0\u001b[0m │\n",
       "├─────────────────────────────────┼────────────────────────┼───────────────┤\n",
       "│ conv2d_transpose_1              │ (\u001b[38;5;45mNone\u001b[0m, \u001b[38;5;34m12\u001b[0m, \u001b[38;5;34m12\u001b[0m, \u001b[38;5;34m128\u001b[0m)    │       \u001b[38;5;34m262,272\u001b[0m │\n",
       "│ (\u001b[38;5;33mConv2DTranspose\u001b[0m)               │                        │               │\n",
       "├─────────────────────────────────┼────────────────────────┼───────────────┤\n",
       "│ leaky_re_lu_2 (\u001b[38;5;33mLeakyReLU\u001b[0m)       │ (\u001b[38;5;45mNone\u001b[0m, \u001b[38;5;34m12\u001b[0m, \u001b[38;5;34m12\u001b[0m, \u001b[38;5;34m128\u001b[0m)    │             \u001b[38;5;34m0\u001b[0m │\n",
       "├─────────────────────────────────┼────────────────────────┼───────────────┤\n",
       "│ conv2d (\u001b[38;5;33mConv2D\u001b[0m)                 │ (\u001b[38;5;45mNone\u001b[0m, \u001b[38;5;34m12\u001b[0m, \u001b[38;5;34m12\u001b[0m, \u001b[38;5;34m1\u001b[0m)      │         \u001b[38;5;34m1,153\u001b[0m │\n",
       "└─────────────────────────────────┴────────────────────────┴───────────────┘\n"
      ]
     },
     "metadata": {},
     "output_type": "display_data"
    },
    {
     "data": {
      "text/html": [
       "<pre style=\"white-space:pre;overflow-x:auto;line-height:normal;font-family:Menlo,'DejaVu Sans Mono',consolas,'Courier New',monospace\"><span style=\"font-weight: bold\"> Total params: </span><span style=\"color: #00af00; text-decoration-color: #00af00\">273,936</span> (1.04 MB)\n",
       "</pre>\n"
      ],
      "text/plain": [
       "\u001b[1m Total params: \u001b[0m\u001b[38;5;34m273,936\u001b[0m (1.04 MB)\n"
      ]
     },
     "metadata": {},
     "output_type": "display_data"
    },
    {
     "data": {
      "text/html": [
       "<pre style=\"white-space:pre;overflow-x:auto;line-height:normal;font-family:Menlo,'DejaVu Sans Mono',consolas,'Courier New',monospace\"><span style=\"font-weight: bold\"> Trainable params: </span><span style=\"color: #00af00; text-decoration-color: #00af00\">273,936</span> (1.04 MB)\n",
       "</pre>\n"
      ],
      "text/plain": [
       "\u001b[1m Trainable params: \u001b[0m\u001b[38;5;34m273,936\u001b[0m (1.04 MB)\n"
      ]
     },
     "metadata": {},
     "output_type": "display_data"
    },
    {
     "data": {
      "text/html": [
       "<pre style=\"white-space:pre;overflow-x:auto;line-height:normal;font-family:Menlo,'DejaVu Sans Mono',consolas,'Courier New',monospace\"><span style=\"font-weight: bold\"> Non-trainable params: </span><span style=\"color: #00af00; text-decoration-color: #00af00\">0</span> (0.00 B)\n",
       "</pre>\n"
      ],
      "text/plain": [
       "\u001b[1m Non-trainable params: \u001b[0m\u001b[38;5;34m0\u001b[0m (0.00 B)\n"
      ]
     },
     "metadata": {},
     "output_type": "display_data"
    }
   ],
   "source": [
    "def build_generator(latent_dim, observed_ports):\n",
    "    \"\"\"\n",
    "    Builds the generator model for the Conditional GAN (cGAN).\n",
    "    The generator takes random noise and observed SINR values as input and generates fake SINR maps.\n",
    "    \n",
    "    Args:\n",
    "        latent_dim (int): Dimension of the latent space (random noise).\n",
    "        observed_ports (int): Number of observed ports (features).\n",
    "        \n",
    "    Returns:\n",
    "        model (tf.keras.Model): The compiled generator model.\n",
    "    \"\"\"\n",
    "    \n",
    "    # ------------------------------- Input layer ------------------------------- #\n",
    "    \"\"\"\n",
    "    The input noise for the generator z is sampled from the Gaussian distribution with\n",
    "    zero mean and unit variance with the dimension of 128. Thus, the input Y of the generator \n",
    "    is Y = z + L\n",
    "    \n",
    "    The latent_dim is the dimension of z (random noise).\n",
    "    L is the labels (observed SINR values).\n",
    "    \"\"\"\n",
    "    \n",
    "    inputs = Input(shape=(latent_dim + observed_ports,))\n",
    "    # Input layer receives a vector of random noise concatenated with observed SINR values.\n",
    "    # Input shape: (batch_size, latent_dim + observed_ports)\n",
    "\n",
    "    # --------------- First Dense layer with Reshape for feature generation --------------- #\n",
    "    x = layers.Dense(27)(inputs)\n",
    "    x = layers.LeakyReLU(0.2)(x)\n",
    "    # Apply LeakyReLU activation to introduce non-linearity.\n",
    "    # Output shape: (None, 27)\n",
    "\n",
    "    x = layers.Reshape((3, 3, -1))(x)\n",
    "    # Reshape the output into a feature map\n",
    "\n",
    "    # ----------------- Convolutional Transpose Layers for Upsampling ---------------- #\n",
    "    x = layers.Conv2DTranspose(128, (4, 4), strides=(2, 2), padding=\"same\")(x)\n",
    "    # Upsample the feature map to double its spatial dimensions.\n",
    "\n",
    "    x = layers.LeakyReLU(0.2)(x)\n",
    "    # Apply LeakyReLU to the upsampled feature map.\n",
    "    \n",
    "    # Conv2DTranspose of (12, 12, 128), 2 / Same\n",
    "    x = layers.Conv2DTranspose(128, (4, 4), strides=(2, 2), padding=\"same\")(x)\n",
    "    # Upsample the feature map to quadruple its spatial dimensions.\n",
    "\n",
    "    x = layers.LeakyReLU(0.2)(x)\n",
    "    # Apply LeakyReLU to the upsampled feature map.\n",
    "\n",
    "    # -------------------------------- Output layer --------------------------------- #\n",
    "    # Original:\n",
    "    outputs = layers.Conv2D(channels, (3, 3), padding=\"same\", activation=\"sigmoid\")(x)\n",
    "    \n",
    "    # Linear:\n",
    "    # outputs = layers.Conv2D(channels, (3, 3), padding=\"same\", activation=\"linear\")(x)\n",
    "    \n",
    "    # Tanh:\n",
    "    # outputs = layers.Conv2D(channels, (3, 3), padding=\"same\", activation=\"tanh\")(x)\n",
    "\n",
    "    # # Compute the max value from the dataset\n",
    "    # upper_bound = tf.reduce_max(sinr_data)\n",
    "    # # Multiply by the max value to map the output to the original range\n",
    "    # outputs = outputs * upper_bound\n",
    "\n",
    "    # Output shape: (batch_size, height, width, channels)\n",
    "    return Model(inputs=inputs, outputs=outputs)\n",
    "\n",
    "# Build the generator\n",
    "generator = build_generator(latent_dim, observed_ports)\n",
    "generator.summary()\n",
    "\n",
    "# Plot and save the generator model architecture\n",
    "# plot_model(generator, to_file=os.path.join(folder_to_save, 'generator_model.png'), show_shapes=True, show_layer_names=True)"
   ]
  },
  {
   "cell_type": "markdown",
   "metadata": {},
   "source": [
    "#### Discriminator"
   ]
  },
  {
   "cell_type": "code",
   "execution_count": 8,
   "metadata": {},
   "outputs": [
    {
     "data": {
      "text/html": [
       "<pre style=\"white-space:pre;overflow-x:auto;line-height:normal;font-family:Menlo,'DejaVu Sans Mono',consolas,'Courier New',monospace\"><span style=\"font-weight: bold\">Model: \"functional_1\"</span>\n",
       "</pre>\n"
      ],
      "text/plain": [
       "\u001b[1mModel: \"functional_1\"\u001b[0m\n"
      ]
     },
     "metadata": {},
     "output_type": "display_data"
    },
    {
     "data": {
      "text/html": [
       "<pre style=\"white-space:pre;overflow-x:auto;line-height:normal;font-family:Menlo,'DejaVu Sans Mono',consolas,'Courier New',monospace\">┏━━━━━━━━━━━━━━━━━━━━━━━━━━━━━━━━━┳━━━━━━━━━━━━━━━━━━━━━━━━┳━━━━━━━━━━━━━━━┓\n",
       "┃<span style=\"font-weight: bold\"> Layer (type)                    </span>┃<span style=\"font-weight: bold\"> Output Shape           </span>┃<span style=\"font-weight: bold\">       Param # </span>┃\n",
       "┡━━━━━━━━━━━━━━━━━━━━━━━━━━━━━━━━━╇━━━━━━━━━━━━━━━━━━━━━━━━╇━━━━━━━━━━━━━━━┩\n",
       "│ input_layer_1 (<span style=\"color: #0087ff; text-decoration-color: #0087ff\">InputLayer</span>)      │ (<span style=\"color: #00d7ff; text-decoration-color: #00d7ff\">None</span>, <span style=\"color: #00af00; text-decoration-color: #00af00\">12</span>, <span style=\"color: #00af00; text-decoration-color: #00af00\">12</span>, <span style=\"color: #00af00; text-decoration-color: #00af00\">1</span>)      │             <span style=\"color: #00af00; text-decoration-color: #00af00\">0</span> │\n",
       "├─────────────────────────────────┼────────────────────────┼───────────────┤\n",
       "│ conv2d_1 (<span style=\"color: #0087ff; text-decoration-color: #0087ff\">Conv2D</span>)               │ (<span style=\"color: #00d7ff; text-decoration-color: #00d7ff\">None</span>, <span style=\"color: #00af00; text-decoration-color: #00af00\">6</span>, <span style=\"color: #00af00; text-decoration-color: #00af00\">6</span>, <span style=\"color: #00af00; text-decoration-color: #00af00\">64</span>)       │           <span style=\"color: #00af00; text-decoration-color: #00af00\">640</span> │\n",
       "├─────────────────────────────────┼────────────────────────┼───────────────┤\n",
       "│ leaky_re_lu_3 (<span style=\"color: #0087ff; text-decoration-color: #0087ff\">LeakyReLU</span>)       │ (<span style=\"color: #00d7ff; text-decoration-color: #00d7ff\">None</span>, <span style=\"color: #00af00; text-decoration-color: #00af00\">6</span>, <span style=\"color: #00af00; text-decoration-color: #00af00\">6</span>, <span style=\"color: #00af00; text-decoration-color: #00af00\">64</span>)       │             <span style=\"color: #00af00; text-decoration-color: #00af00\">0</span> │\n",
       "├─────────────────────────────────┼────────────────────────┼───────────────┤\n",
       "│ conv2d_2 (<span style=\"color: #0087ff; text-decoration-color: #0087ff\">Conv2D</span>)               │ (<span style=\"color: #00d7ff; text-decoration-color: #00d7ff\">None</span>, <span style=\"color: #00af00; text-decoration-color: #00af00\">3</span>, <span style=\"color: #00af00; text-decoration-color: #00af00\">3</span>, <span style=\"color: #00af00; text-decoration-color: #00af00\">128</span>)      │        <span style=\"color: #00af00; text-decoration-color: #00af00\">73,856</span> │\n",
       "├─────────────────────────────────┼────────────────────────┼───────────────┤\n",
       "│ leaky_re_lu_4 (<span style=\"color: #0087ff; text-decoration-color: #0087ff\">LeakyReLU</span>)       │ (<span style=\"color: #00d7ff; text-decoration-color: #00d7ff\">None</span>, <span style=\"color: #00af00; text-decoration-color: #00af00\">3</span>, <span style=\"color: #00af00; text-decoration-color: #00af00\">3</span>, <span style=\"color: #00af00; text-decoration-color: #00af00\">128</span>)      │             <span style=\"color: #00af00; text-decoration-color: #00af00\">0</span> │\n",
       "├─────────────────────────────────┼────────────────────────┼───────────────┤\n",
       "│ global_max_pooling2d            │ (<span style=\"color: #00d7ff; text-decoration-color: #00d7ff\">None</span>, <span style=\"color: #00af00; text-decoration-color: #00af00\">128</span>)            │             <span style=\"color: #00af00; text-decoration-color: #00af00\">0</span> │\n",
       "│ (<span style=\"color: #0087ff; text-decoration-color: #0087ff\">GlobalMaxPooling2D</span>)            │                        │               │\n",
       "├─────────────────────────────────┼────────────────────────┼───────────────┤\n",
       "│ dense_1 (<span style=\"color: #0087ff; text-decoration-color: #0087ff\">Dense</span>)                 │ (<span style=\"color: #00d7ff; text-decoration-color: #00d7ff\">None</span>, <span style=\"color: #00af00; text-decoration-color: #00af00\">1</span>)              │           <span style=\"color: #00af00; text-decoration-color: #00af00\">129</span> │\n",
       "└─────────────────────────────────┴────────────────────────┴───────────────┘\n",
       "</pre>\n"
      ],
      "text/plain": [
       "┏━━━━━━━━━━━━━━━━━━━━━━━━━━━━━━━━━┳━━━━━━━━━━━━━━━━━━━━━━━━┳━━━━━━━━━━━━━━━┓\n",
       "┃\u001b[1m \u001b[0m\u001b[1mLayer (type)                   \u001b[0m\u001b[1m \u001b[0m┃\u001b[1m \u001b[0m\u001b[1mOutput Shape          \u001b[0m\u001b[1m \u001b[0m┃\u001b[1m \u001b[0m\u001b[1m      Param #\u001b[0m\u001b[1m \u001b[0m┃\n",
       "┡━━━━━━━━━━━━━━━━━━━━━━━━━━━━━━━━━╇━━━━━━━━━━━━━━━━━━━━━━━━╇━━━━━━━━━━━━━━━┩\n",
       "│ input_layer_1 (\u001b[38;5;33mInputLayer\u001b[0m)      │ (\u001b[38;5;45mNone\u001b[0m, \u001b[38;5;34m12\u001b[0m, \u001b[38;5;34m12\u001b[0m, \u001b[38;5;34m1\u001b[0m)      │             \u001b[38;5;34m0\u001b[0m │\n",
       "├─────────────────────────────────┼────────────────────────┼───────────────┤\n",
       "│ conv2d_1 (\u001b[38;5;33mConv2D\u001b[0m)               │ (\u001b[38;5;45mNone\u001b[0m, \u001b[38;5;34m6\u001b[0m, \u001b[38;5;34m6\u001b[0m, \u001b[38;5;34m64\u001b[0m)       │           \u001b[38;5;34m640\u001b[0m │\n",
       "├─────────────────────────────────┼────────────────────────┼───────────────┤\n",
       "│ leaky_re_lu_3 (\u001b[38;5;33mLeakyReLU\u001b[0m)       │ (\u001b[38;5;45mNone\u001b[0m, \u001b[38;5;34m6\u001b[0m, \u001b[38;5;34m6\u001b[0m, \u001b[38;5;34m64\u001b[0m)       │             \u001b[38;5;34m0\u001b[0m │\n",
       "├─────────────────────────────────┼────────────────────────┼───────────────┤\n",
       "│ conv2d_2 (\u001b[38;5;33mConv2D\u001b[0m)               │ (\u001b[38;5;45mNone\u001b[0m, \u001b[38;5;34m3\u001b[0m, \u001b[38;5;34m3\u001b[0m, \u001b[38;5;34m128\u001b[0m)      │        \u001b[38;5;34m73,856\u001b[0m │\n",
       "├─────────────────────────────────┼────────────────────────┼───────────────┤\n",
       "│ leaky_re_lu_4 (\u001b[38;5;33mLeakyReLU\u001b[0m)       │ (\u001b[38;5;45mNone\u001b[0m, \u001b[38;5;34m3\u001b[0m, \u001b[38;5;34m3\u001b[0m, \u001b[38;5;34m128\u001b[0m)      │             \u001b[38;5;34m0\u001b[0m │\n",
       "├─────────────────────────────────┼────────────────────────┼───────────────┤\n",
       "│ global_max_pooling2d            │ (\u001b[38;5;45mNone\u001b[0m, \u001b[38;5;34m128\u001b[0m)            │             \u001b[38;5;34m0\u001b[0m │\n",
       "│ (\u001b[38;5;33mGlobalMaxPooling2D\u001b[0m)            │                        │               │\n",
       "├─────────────────────────────────┼────────────────────────┼───────────────┤\n",
       "│ dense_1 (\u001b[38;5;33mDense\u001b[0m)                 │ (\u001b[38;5;45mNone\u001b[0m, \u001b[38;5;34m1\u001b[0m)              │           \u001b[38;5;34m129\u001b[0m │\n",
       "└─────────────────────────────────┴────────────────────────┴───────────────┘\n"
      ]
     },
     "metadata": {},
     "output_type": "display_data"
    },
    {
     "data": {
      "text/html": [
       "<pre style=\"white-space:pre;overflow-x:auto;line-height:normal;font-family:Menlo,'DejaVu Sans Mono',consolas,'Courier New',monospace\"><span style=\"font-weight: bold\"> Total params: </span><span style=\"color: #00af00; text-decoration-color: #00af00\">74,625</span> (291.50 KB)\n",
       "</pre>\n"
      ],
      "text/plain": [
       "\u001b[1m Total params: \u001b[0m\u001b[38;5;34m74,625\u001b[0m (291.50 KB)\n"
      ]
     },
     "metadata": {},
     "output_type": "display_data"
    },
    {
     "data": {
      "text/html": [
       "<pre style=\"white-space:pre;overflow-x:auto;line-height:normal;font-family:Menlo,'DejaVu Sans Mono',consolas,'Courier New',monospace\"><span style=\"font-weight: bold\"> Trainable params: </span><span style=\"color: #00af00; text-decoration-color: #00af00\">74,625</span> (291.50 KB)\n",
       "</pre>\n"
      ],
      "text/plain": [
       "\u001b[1m Trainable params: \u001b[0m\u001b[38;5;34m74,625\u001b[0m (291.50 KB)\n"
      ]
     },
     "metadata": {},
     "output_type": "display_data"
    },
    {
     "data": {
      "text/html": [
       "<pre style=\"white-space:pre;overflow-x:auto;line-height:normal;font-family:Menlo,'DejaVu Sans Mono',consolas,'Courier New',monospace\"><span style=\"font-weight: bold\"> Non-trainable params: </span><span style=\"color: #00af00; text-decoration-color: #00af00\">0</span> (0.00 B)\n",
       "</pre>\n"
      ],
      "text/plain": [
       "\u001b[1m Non-trainable params: \u001b[0m\u001b[38;5;34m0\u001b[0m (0.00 B)\n"
      ]
     },
     "metadata": {},
     "output_type": "display_data"
    }
   ],
   "source": [
    "def build_discriminator():\n",
    "    \"\"\"\n",
    "    Builds the discriminator model for the Conditional GAN (cGAN).\n",
    "    The discriminator distinguishes between real and generated SINR maps.\n",
    "\n",
    "    Returns:\n",
    "        model (tf.keras.Model): The compiled discriminator model.\n",
    "    \"\"\"\n",
    "\n",
    "    # ------------------------------- Input layer ------------------------------- #\n",
    "    inputs = Input(shape=(height, width, channels))\n",
    "    # Input layer expects a SINR map of size (height, width, channels).\n",
    "\n",
    "    # --------------- First Convolutional Block ---------------- #\n",
    "    x = layers.Conv2D(64, (3, 3), strides=(2, 2), padding=\"same\")(inputs)\n",
    "    # First convolutional layer reduces the spatial dimensions.\n",
    "\n",
    "    x = layers.LeakyReLU(0.2)(x)\n",
    "    # Apply LeakyReLU to introduce non-linearity.\n",
    "\n",
    "    # --------------- Second Convolutional Block ---------------- #\n",
    "    x = layers.Conv2D(128, (3, 3), strides=(2, 2), padding=\"same\")(x)\n",
    "    # Second convolutional layer further reduces spatial dimensions.\n",
    "\n",
    "    x = layers.LeakyReLU(0.2)(x)\n",
    "    # Apply LeakyReLU.\n",
    "\n",
    "    # ----------------------- Global Pooling and Output Layer ---------------------- #\n",
    "    x = layers.GlobalMaxPooling2D()(x)\n",
    "    # Global Max Pooling reduces the feature map to a single feature vector per sample.\n",
    "\n",
    "    outputs = layers.Dense(1)(x)\n",
    "    # Dense layer outputs a single value representing real or fake prediction.\n",
    "    # Output shape: (batch_size, 1)\n",
    "\n",
    "    return Model(inputs=inputs, outputs=outputs)\n",
    "    \n",
    "# Build the discriminator\n",
    "discriminator = build_discriminator()\n",
    "discriminator.summary()\n",
    "\n",
    "# Plot and save the discriminator model architecture\n",
    "# plot_model(discriminator, to_file=os.path.join(folder_to_save, 'discriminator_model.png'), show_shapes=True, show_layer_names=True)"
   ]
  },
  {
   "cell_type": "markdown",
   "metadata": {},
   "source": [
    "#### cGAN Model"
   ]
  },
  {
   "cell_type": "code",
   "execution_count": 9,
   "metadata": {},
   "outputs": [],
   "source": [
    "class ConditionalGAN(keras.Model):\n",
    "    \"\"\"\n",
    "    Defines the Conditional GAN (cGAN) model that combines the generator and discriminator.\n",
    "\n",
    "    The model trains the generator to produce SINR maps that fool the discriminator,\n",
    "    while training the discriminator to correctly distinguish between real and generated SINR maps.\n",
    "    \"\"\"\n",
    "\n",
    "    def __init__(self, generator, discriminator, latent_dim, mse_punishment=3):\n",
    "        \"\"\"\n",
    "        Initializes the Conditional GAN model with generator and discriminator.\n",
    "\n",
    "        Args:\n",
    "            generator (tf.keras.Model): The generator model.\n",
    "            discriminator (tf.keras.Model): The discriminator model.\n",
    "            latent_dim (int): The dimension of the latent space.\n",
    "            mse_punishment (float): Weighting factor for the generator loss.\n",
    "        \"\"\"\n",
    "        super(ConditionalGAN, self).__init__()\n",
    "        self.generator = generator\n",
    "        self.discriminator = discriminator\n",
    "        self.latent_dim = latent_dim\n",
    "        self.gen_loss_tracker = keras.metrics.Mean(name=\"generator_loss\")\n",
    "        self.disc_loss_tracker = keras.metrics.Mean(name=\"discriminator_loss\")\n",
    "        self.mse_tracker = keras.metrics.Mean(name=\"mse_loss\")\n",
    "        self.mse_punishment = mse_punishment\n",
    "\n",
    "    @property\n",
    "    def metrics(self):\n",
    "        \"\"\"Returns the tracked metrics for the generator, discriminator, and MSE.\"\"\"\n",
    "        return [self.gen_loss_tracker, self.disc_loss_tracker, self.mse_tracker]\n",
    "\n",
    "    def compile(self, d_optimizer, g_optimizer, loss_fn):\n",
    "        \"\"\"\n",
    "        Compiles the Conditional GAN model with optimizers and loss function.\n",
    "\n",
    "        Args:\n",
    "            d_optimizer (tf.keras.optimizers.Optimizer): Optimizer for the discriminator.\n",
    "            g_optimizer (tf.keras.optimizers.Optimizer): Optimizer for the generator.\n",
    "            loss_fn (callable): Loss function to optimize.\n",
    "        \"\"\"\n",
    "        super(ConditionalGAN, self).compile()\n",
    "        self.d_optimizer = d_optimizer\n",
    "        self.g_optimizer = g_optimizer\n",
    "\n",
    "        # The loss here is a Binary Cross-Entropy loss\n",
    "        self.loss_fn = loss_fn\n",
    "        self.mse_fn = keras.losses.MeanSquaredError()\n",
    "\n",
    "    def train_step(self, data):\n",
    "        \"\"\"\n",
    "        Defines a single training step for the Conditional GAN.\n",
    "\n",
    "        Args:\n",
    "            data (tuple): A tuple containing real SINR data and observed SINR data.\n",
    "\n",
    "        Returns:\n",
    "            dict: A dictionary of the generator, discriminator, and MSE losses.\n",
    "        \"\"\"\n",
    "        # Unpack the data: real SINR data and observed SINR ports (context/labels)\n",
    "        # (None, 12, 12, 1) - Input real images\n",
    "        # (None, 28, 1, 1) - Input observed ports\n",
    "        real_images, observed_ports = data\n",
    "\n",
    "        # Generate random noise for the generator\n",
    "        batch_size = tf.shape(real_images)[0]\n",
    "        random_latent_vectors = tf.random.normal(\n",
    "            shape=(batch_size, self.latent_dim)\n",
    "        )  # (None, 128) - Random noise\n",
    "\n",
    "        # Flatten observed_sinr to a 2D vector for concatenation with random noise\n",
    "        observed_ports = tf.reshape(observed_ports, [batch_size, -1])  # (None, 28) - Flattened ports\n",
    "\n",
    "        # Concatenate the random noise with the observed ports\n",
    "        generator_input = tf.concat(\n",
    "            [random_latent_vectors, observed_ports], axis=1\n",
    "        )  # (None, 156) - Latent + ports\n",
    "\n",
    "        # Generate fake SINR maps\n",
    "        generated_images = self.generator(generator_input)  # (None, 12, 12, 1) - Fake generated images\n",
    "\n",
    "        # Combine real and fake images for the discriminator\n",
    "        combined_images = tf.concat(\n",
    "            [generated_images, real_images], axis=0\n",
    "        )  # (None*2, 12, 12, 1) - Real + fake\n",
    "\n",
    "        # Create labels for real (1) and fake (0) images\n",
    "        labels = tf.concat(\n",
    "            [tf.ones((batch_size, 1)), tf.zeros((batch_size, 1))], axis=0\n",
    "        )  # (None*2, 1) - Labels\n",
    "\n",
    "        # Train the discriminator\n",
    "        with tf.GradientTape() as tape:\n",
    "            predictions = self.discriminator(combined_images)  # (None*2, 1) - Discriminator predictions\n",
    "            d_loss = self.loss_fn(labels, predictions)\n",
    "        \n",
    "        # Calculate the gradients of the discriminator loss with respect to the discriminator's weights\n",
    "        # This computes how much each weight contributes to the loss, which is needed for backpropagation.\n",
    "        grads = tape.gradient(d_loss, self.discriminator.trainable_weights)\n",
    "        \n",
    "        # Apply the computed gradients to the discriminator's weights, updating them to minimize the loss\n",
    "        self.d_optimizer.apply_gradients(zip(grads, self.discriminator.trainable_weights))\n",
    "\n",
    "        # Generate new random latent vectors\n",
    "        random_latent_vectors = tf.random.normal(\n",
    "            shape=(batch_size, self.latent_dim)\n",
    "        )  # (None, 128) - New latent vectors\n",
    "\n",
    "        # Concatenate random noise with observed ports for the generator\n",
    "        generator_input = tf.concat(\n",
    "            [random_latent_vectors, observed_ports], axis=1\n",
    "        )  # (None, 156) - Input for generator\n",
    "\n",
    "        # Labels for the generator training (all ones, as we want to fool the discriminator)\n",
    "        misleading_labels = tf.ones((batch_size, 1))  # (None, 1) - Fake labels (all ones)\n",
    "\n",
    "        # Train the generator\n",
    "        with tf.GradientTape() as tape:\n",
    "            generated_images = self.generator(\n",
    "                generator_input\n",
    "            )  # (None, 12, 12, 1) - Fake images from generator\n",
    "            predictions = self.discriminator(\n",
    "                generated_images\n",
    "            )  # (None, 1) - Discriminator predictions on fake images\n",
    "            g_loss = self.loss_fn(misleading_labels, predictions)\n",
    "            mse_loss = self.mse_fn(real_images, generated_images)\n",
    "\n",
    "            # Punish the generator with MSE loss\n",
    "            g_loss = g_loss + mse_loss * self.mse_punishment\n",
    "            \n",
    "        # Calculate the gradients of the generator loss with respect to the generator's weights\n",
    "        grads = tape.gradient(g_loss, self.generator.trainable_weights)\n",
    "        \n",
    "        # Apply them to the generator's weights\n",
    "        self.g_optimizer.apply_gradients(zip(grads, self.generator.trainable_weights))\n",
    "\n",
    "        # Return the tracked losses\n",
    "        self.gen_loss_tracker.update_state(g_loss)\n",
    "        self.disc_loss_tracker.update_state(d_loss)\n",
    "        self.mse_tracker.update_state(mse_loss)\n",
    "\n",
    "        return {\n",
    "            \"g_loss\": self.gen_loss_tracker.result(),\n",
    "            \"d_loss\": self.disc_loss_tracker.result(),\n",
    "            \"mse\": self.mse_tracker.result(),\n",
    "        }"
   ]
  },
  {
   "cell_type": "code",
   "execution_count": 10,
   "metadata": {},
   "outputs": [],
   "source": [
    "class LossHistory(Callback):\n",
    "    def on_train_begin(self, logs=None):\n",
    "        self.g_loss_history = []\n",
    "        self.d_loss_history = []\n",
    "        self.mse_history = []\n",
    "\n",
    "    def on_epoch_end(self, epoch, logs=None):\n",
    "        self.g_loss_history.append(logs.get('g_loss'))\n",
    "        self.d_loss_history.append(logs.get('d_loss'))\n",
    "        self.mse_history.append(logs.get('mse'))"
   ]
  },
  {
   "cell_type": "markdown",
   "metadata": {},
   "source": [
    "#### Training"
   ]
  },
  {
   "cell_type": "code",
   "execution_count": 11,
   "metadata": {},
   "outputs": [
    {
     "name": "stdout",
     "output_type": "stream",
     "text": [
      "Epoch 1/10\n"
     ]
    },
    {
     "name": "stderr",
     "output_type": "stream",
     "text": [
      "WARNING: All log messages before absl::InitializeLog() is called are written to STDERR\n",
      "I0000 00:00:1726840635.112508  767221 service.cc:146] XLA service 0x700e9800e840 initialized for platform CUDA (this does not guarantee that XLA will be used). Devices:\n",
      "I0000 00:00:1726840635.112539  767221 service.cc:154]   StreamExecutor device (0): NVIDIA GeForce RTX 3070 Ti Laptop GPU, Compute Capability 8.6\n"
     ]
    },
    {
     "name": "stdout",
     "output_type": "stream",
     "text": [
      "\u001b[1m  69/1250\u001b[0m \u001b[32m━\u001b[0m\u001b[37m━━━━━━━━━━━━━━━━━━━\u001b[0m \u001b[1m2s\u001b[0m 2ms/step - d_loss: 0.6306 - g_loss: 0.9815 - mse: 0.1344"
     ]
    },
    {
     "name": "stderr",
     "output_type": "stream",
     "text": [
      "I0000 00:00:1726840637.667903  767221 device_compiler.h:188] Compiled cluster using XLA!  This line is logged at most once for the lifetime of the process.\n"
     ]
    },
    {
     "name": "stdout",
     "output_type": "stream",
     "text": [
      "\u001b[1m1250/1250\u001b[0m \u001b[32m━━━━━━━━━━━━━━━━━━━━\u001b[0m\u001b[37m\u001b[0m \u001b[1m6s\u001b[0m 2ms/step - d_loss: 0.1571 - g_loss: 0.2236 - mse: 0.0323\n",
      "Epoch 2/10\n",
      "\u001b[1m1250/1250\u001b[0m \u001b[32m━━━━━━━━━━━━━━━━━━━━\u001b[0m\u001b[37m\u001b[0m \u001b[1m2s\u001b[0m 2ms/step - d_loss: 0.0012 - g_loss: 0.0070 - mse: 0.0020\n",
      "Epoch 3/10\n",
      "\u001b[1m1250/1250\u001b[0m \u001b[32m━━━━━━━━━━━━━━━━━━━━\u001b[0m\u001b[37m\u001b[0m \u001b[1m3s\u001b[0m 2ms/step - d_loss: 5.4335e-04 - g_loss: 0.0037 - mse: 0.0011\n",
      "Epoch 4/10\n",
      "\u001b[1m1250/1250\u001b[0m \u001b[32m━━━━━━━━━━━━━━━━━━━━\u001b[0m\u001b[37m\u001b[0m \u001b[1m3s\u001b[0m 2ms/step - d_loss: 2.8581e-04 - g_loss: 0.0023 - mse: 7.0465e-04\n",
      "Epoch 5/10\n",
      "\u001b[1m1250/1250\u001b[0m \u001b[32m━━━━━━━━━━━━━━━━━━━━\u001b[0m\u001b[37m\u001b[0m \u001b[1m2s\u001b[0m 2ms/step - d_loss: 1.4411e-04 - g_loss: 0.0016 - mse: 4.8685e-04\n",
      "Epoch 6/10\n",
      "\u001b[1m1250/1250\u001b[0m \u001b[32m━━━━━━━━━━━━━━━━━━━━\u001b[0m\u001b[37m\u001b[0m \u001b[1m2s\u001b[0m 2ms/step - d_loss: 7.1949e-05 - g_loss: 0.0011 - mse: 3.4826e-04\n",
      "Epoch 7/10\n",
      "\u001b[1m1250/1250\u001b[0m \u001b[32m━━━━━━━━━━━━━━━━━━━━\u001b[0m\u001b[37m\u001b[0m \u001b[1m3s\u001b[0m 2ms/step - d_loss: 4.2329e-05 - g_loss: 8.6275e-04 - mse: 2.7316e-04\n",
      "Epoch 8/10\n",
      "\u001b[1m1250/1250\u001b[0m \u001b[32m━━━━━━━━━━━━━━━━━━━━\u001b[0m\u001b[37m\u001b[0m \u001b[1m2s\u001b[0m 2ms/step - d_loss: 2.6417e-05 - g_loss: 7.0382e-04 - mse: 2.2576e-04\n",
      "Epoch 9/10\n",
      "\u001b[1m1250/1250\u001b[0m \u001b[32m━━━━━━━━━━━━━━━━━━━━\u001b[0m\u001b[37m\u001b[0m \u001b[1m2s\u001b[0m 2ms/step - d_loss: 1.6363e-05 - g_loss: 5.9937e-04 - mse: 1.9440e-04\n",
      "Epoch 10/10\n",
      "\u001b[1m1250/1250\u001b[0m \u001b[32m━━━━━━━━━━━━━━━━━━━━\u001b[0m\u001b[37m\u001b[0m \u001b[1m2s\u001b[0m 2ms/step - d_loss: 1.0599e-05 - g_loss: 5.3232e-04 - mse: 1.7395e-04\n"
     ]
    },
    {
     "data": {
      "text/plain": [
       "<keras.src.callbacks.history.History at 0x7010123ec040>"
      ]
     },
     "execution_count": 11,
     "metadata": {},
     "output_type": "execute_result"
    }
   ],
   "source": [
    "# Instantiate and compile the models\n",
    "cgan = ConditionalGAN(generator, discriminator, latent_dim)\n",
    "\n",
    "\n",
    "cgan.compile(\n",
    "    d_optimizer=keras.optimizers.Adam(learning_rate=0.0002),\n",
    "    g_optimizer=keras.optimizers.Adam(learning_rate=0.0003),\n",
    "    loss_fn=keras.losses.BinaryCrossentropy(from_logits=True)\n",
    ")\n",
    "\n",
    "# Instantiate the loss history callback\n",
    "loss_history = LossHistory()\n",
    "\n",
    "# Train the cGAN model\n",
    "cgan.fit(dataset, epochs=10, callbacks=[loss_history])"
   ]
  },
  {
   "cell_type": "markdown",
   "metadata": {},
   "source": [
    "#### Histogram Comparison and Plots"
   ]
  },
  {
   "cell_type": "code",
   "execution_count": 12,
   "metadata": {},
   "outputs": [
    {
     "data": {
      "image/png": "[encoded data removed]",
      "text/plain": [
       "<Figure size 1200x800 with 3 Axes>"
      ]
     },
     "metadata": {},
     "output_type": "display_data"
    },
    {
     "name": "stdout",
     "output_type": "stream",
     "text": [
      "Real SINR shape: (5760000,)\n"
     ]
    },
    {
     "name": "stderr",
     "output_type": "stream",
     "text": [
      "W0000 00:00:1726840662.979842  765344 gpu_timer.cc:114] Skipping the delay kernel, measurement accuracy will be reduced\n",
      "W0000 00:00:1726840662.993239  765344 gpu_timer.cc:114] Skipping the delay kernel, measurement accuracy will be reduced\n",
      "W0000 00:00:1726840662.993860  765344 gpu_timer.cc:114] Skipping the delay kernel, measurement accuracy will be reduced\n",
      "W0000 00:00:1726840662.994484  765344 gpu_timer.cc:114] Skipping the delay kernel, measurement accuracy will be reduced\n",
      "W0000 00:00:1726840662.995089  765344 gpu_timer.cc:114] Skipping the delay kernel, measurement accuracy will be reduced\n",
      "W0000 00:00:1726840662.995681  765344 gpu_timer.cc:114] Skipping the delay kernel, measurement accuracy will be reduced\n",
      "W0000 00:00:1726840662.996467  765344 gpu_timer.cc:114] Skipping the delay kernel, measurement accuracy will be reduced\n",
      "W0000 00:00:1726840662.997307  765344 gpu_timer.cc:114] Skipping the delay kernel, measurement accuracy will be reduced\n",
      "W0000 00:00:1726840662.998110  765344 gpu_timer.cc:114] Skipping the delay kernel, measurement accuracy will be reduced\n",
      "W0000 00:00:1726840662.998816  765344 gpu_timer.cc:114] Skipping the delay kernel, measurement accuracy will be reduced\n",
      "W0000 00:00:1726840662.999516  765344 gpu_timer.cc:114] Skipping the delay kernel, measurement accuracy will be reduced\n",
      "W0000 00:00:1726840663.000302  765344 gpu_timer.cc:114] Skipping the delay kernel, measurement accuracy will be reduced\n",
      "W0000 00:00:1726840663.001011  765344 gpu_timer.cc:114] Skipping the delay kernel, measurement accuracy will be reduced\n",
      "W0000 00:00:1726840663.001800  765344 gpu_timer.cc:114] Skipping the delay kernel, measurement accuracy will be reduced\n",
      "W0000 00:00:1726840663.002532  765344 gpu_timer.cc:114] Skipping the delay kernel, measurement accuracy will be reduced\n",
      "W0000 00:00:1726840663.003195  765344 gpu_timer.cc:114] Skipping the delay kernel, measurement accuracy will be reduced\n",
      "W0000 00:00:1726840663.004634  765344 gpu_timer.cc:114] Skipping the delay kernel, measurement accuracy will be reduced\n",
      "W0000 00:00:1726840663.008204  765344 gpu_timer.cc:114] Skipping the delay kernel, measurement accuracy will be reduced\n",
      "W0000 00:00:1726840663.010598  765344 gpu_timer.cc:114] Skipping the delay kernel, measurement accuracy will be reduced\n",
      "W0000 00:00:1726840663.011621  765344 gpu_timer.cc:114] Skipping the delay kernel, measurement accuracy will be reduced\n",
      "W0000 00:00:1726840663.019905  765344 gpu_timer.cc:114] Skipping the delay kernel, measurement accuracy will be reduced\n",
      "W0000 00:00:1726840663.021710  765344 gpu_timer.cc:114] Skipping the delay kernel, measurement accuracy will be reduced\n",
      "W0000 00:00:1726840663.023354  765344 gpu_timer.cc:114] Skipping the delay kernel, measurement accuracy will be reduced\n",
      "W0000 00:00:1726840663.025308  765344 gpu_timer.cc:114] Skipping the delay kernel, measurement accuracy will be reduced\n",
      "W0000 00:00:1726840663.027156  765344 gpu_timer.cc:114] Skipping the delay kernel, measurement accuracy will be reduced\n",
      "W0000 00:00:1726840663.030156  765344 gpu_timer.cc:114] Skipping the delay kernel, measurement accuracy will be reduced\n",
      "W0000 00:00:1726840663.032130  765344 gpu_timer.cc:114] Skipping the delay kernel, measurement accuracy will be reduced\n",
      "W0000 00:00:1726840663.034465  765344 gpu_timer.cc:114] Skipping the delay kernel, measurement accuracy will be reduced\n",
      "W0000 00:00:1726840663.037682  765344 gpu_timer.cc:114] Skipping the delay kernel, measurement accuracy will be reduced\n",
      "W0000 00:00:1726840663.040879  765344 gpu_timer.cc:114] Skipping the delay kernel, measurement accuracy will be reduced\n",
      "W0000 00:00:1726840663.044078  765344 gpu_timer.cc:114] Skipping the delay kernel, measurement accuracy will be reduced\n",
      "W0000 00:00:1726840663.047546  765344 gpu_timer.cc:114] Skipping the delay kernel, measurement accuracy will be reduced\n",
      "W0000 00:00:1726840663.050761  765344 gpu_timer.cc:114] Skipping the delay kernel, measurement accuracy will be reduced\n",
      "W0000 00:00:1726840663.054059  765344 gpu_timer.cc:114] Skipping the delay kernel, measurement accuracy will be reduced\n",
      "W0000 00:00:1726840663.058458  765344 gpu_timer.cc:114] Skipping the delay kernel, measurement accuracy will be reduced\n",
      "W0000 00:00:1726840663.061939  765344 gpu_timer.cc:114] Skipping the delay kernel, measurement accuracy will be reduced\n",
      "W0000 00:00:1726840663.067117  765344 gpu_timer.cc:114] Skipping the delay kernel, measurement accuracy will be reduced\n",
      "W0000 00:00:1726840663.073673  765344 gpu_timer.cc:114] Skipping the delay kernel, measurement accuracy will be reduced\n",
      "W0000 00:00:1726840663.079666  765344 gpu_timer.cc:114] Skipping the delay kernel, measurement accuracy will be reduced\n",
      "W0000 00:00:1726840663.100819  765344 gpu_timer.cc:114] Skipping the delay kernel, measurement accuracy will be reduced\n",
      "W0000 00:00:1726840663.104751  765344 gpu_timer.cc:114] Skipping the delay kernel, measurement accuracy will be reduced\n",
      "W0000 00:00:1726840663.107966  765344 gpu_timer.cc:114] Skipping the delay kernel, measurement accuracy will be reduced\n",
      "W0000 00:00:1726840663.111254  765344 gpu_timer.cc:114] Skipping the delay kernel, measurement accuracy will be reduced\n",
      "W0000 00:00:1726840663.113719  765344 gpu_timer.cc:114] Skipping the delay kernel, measurement accuracy will be reduced\n",
      "W0000 00:00:1726840663.115850  765344 gpu_timer.cc:114] Skipping the delay kernel, measurement accuracy will be reduced\n",
      "W0000 00:00:1726840663.118008  765344 gpu_timer.cc:114] Skipping the delay kernel, measurement accuracy will be reduced\n",
      "W0000 00:00:1726840663.121270  765344 gpu_timer.cc:114] Skipping the delay kernel, measurement accuracy will be reduced\n",
      "W0000 00:00:1726840663.124418  765344 gpu_timer.cc:114] Skipping the delay kernel, measurement accuracy will be reduced\n",
      "W0000 00:00:1726840663.127487  765344 gpu_timer.cc:114] Skipping the delay kernel, measurement accuracy will be reduced\n",
      "W0000 00:00:1726840663.130992  765344 gpu_timer.cc:114] Skipping the delay kernel, measurement accuracy will be reduced\n",
      "W0000 00:00:1726840663.134911  765344 gpu_timer.cc:114] Skipping the delay kernel, measurement accuracy will be reduced\n",
      "W0000 00:00:1726840663.138199  765344 gpu_timer.cc:114] Skipping the delay kernel, measurement accuracy will be reduced\n",
      "W0000 00:00:1726840663.141438  765344 gpu_timer.cc:114] Skipping the delay kernel, measurement accuracy will be reduced\n",
      "W0000 00:00:1726840663.143508  765344 gpu_timer.cc:114] Skipping the delay kernel, measurement accuracy will be reduced\n",
      "W0000 00:00:1726840663.145480  765344 gpu_timer.cc:114] Skipping the delay kernel, measurement accuracy will be reduced\n",
      "W0000 00:00:1726840663.149573  765344 gpu_timer.cc:114] Skipping the delay kernel, measurement accuracy will be reduced\n",
      "W0000 00:00:1726840663.151665  765344 gpu_timer.cc:114] Skipping the delay kernel, measurement accuracy will be reduced\n",
      "W0000 00:00:1726840663.154302  765344 gpu_timer.cc:114] Skipping the delay kernel, measurement accuracy will be reduced\n",
      "W0000 00:00:1726840663.156611  765344 gpu_timer.cc:114] Skipping the delay kernel, measurement accuracy will be reduced\n",
      "W0000 00:00:1726840663.160551  765344 gpu_timer.cc:114] Skipping the delay kernel, measurement accuracy will be reduced\n",
      "W0000 00:00:1726840663.162380  765344 gpu_timer.cc:114] Skipping the delay kernel, measurement accuracy will be reduced\n",
      "W0000 00:00:1726840663.164363  765344 gpu_timer.cc:114] Skipping the delay kernel, measurement accuracy will be reduced\n",
      "W0000 00:00:1726840663.166289  765344 gpu_timer.cc:114] Skipping the delay kernel, measurement accuracy will be reduced\n",
      "W0000 00:00:1726840663.168246  765344 gpu_timer.cc:114] Skipping the delay kernel, measurement accuracy will be reduced\n",
      "W0000 00:00:1726840663.170429  765344 gpu_timer.cc:114] Skipping the delay kernel, measurement accuracy will be reduced\n",
      "W0000 00:00:1726840663.172739  765344 gpu_timer.cc:114] Skipping the delay kernel, measurement accuracy will be reduced\n",
      "W0000 00:00:1726840663.174324  765344 gpu_timer.cc:114] Skipping the delay kernel, measurement accuracy will be reduced\n",
      "W0000 00:00:1726840663.178896  765344 gpu_timer.cc:114] Skipping the delay kernel, measurement accuracy will be reduced\n",
      "W0000 00:00:1726840663.190085  765344 gpu_timer.cc:114] Skipping the delay kernel, measurement accuracy will be reduced\n",
      "W0000 00:00:1726840663.196373  765344 gpu_timer.cc:114] Skipping the delay kernel, measurement accuracy will be reduced\n",
      "W0000 00:00:1726840663.205482  765344 gpu_timer.cc:114] Skipping the delay kernel, measurement accuracy will be reduced\n",
      "W0000 00:00:1726840663.209176  765344 gpu_timer.cc:114] Skipping the delay kernel, measurement accuracy will be reduced\n"
     ]
    },
    {
     "name": "stdout",
     "output_type": "stream",
     "text": [
      "Generated SINR shape: (5760000,)\n"
     ]
    },
    {
     "data": {
      "image/png": "[encoded data removed]",
      "text/plain": [
       "<Figure size 1000x600 with 1 Axes>"
      ]
     },
     "metadata": {},
     "output_type": "display_data"
    }
   ],
   "source": [
    "def plot_losses(g_loss_history, d_loss_history, mse_history):\n",
    "    \"\"\"\n",
    "    Plots the generator loss, discriminator loss, and MSE loss over epochs.\n",
    "\n",
    "    Args:\n",
    "        g_loss_history (list): Generator loss history.\n",
    "        d_loss_history (list): Discriminator loss history.\n",
    "        mse_history (list): MSE loss history.\n",
    "    \"\"\"\n",
    "    epochs = range(1, len(g_loss_history) + 1)  # Epoch numbers (1, 2, ..., N)\n",
    "\n",
    "    plt.figure(figsize=(12, 8))\n",
    "\n",
    "    # Plot generator loss (logarithmic scale)\n",
    "    plt.subplot(3, 1, 1)\n",
    "    plt.plot(epochs, g_loss_history, label=\"Generator Loss\")\n",
    "    plt.yscale('log')  # Logarithmic scale for y-axis\n",
    "    plt.xticks(np.linspace(1, len(epochs), num=10, dtype=int))  # Ensure x-axis is integers only\n",
    "    plt.title(\"Generator Loss Over Epochs\")\n",
    "    plt.xlabel(\"Epoch\")\n",
    "    plt.ylabel(\"Loss (log scale)\")\n",
    "    plt.legend()\n",
    "\n",
    "    # Plot discriminator loss (logarithmic scale)\n",
    "    plt.subplot(3, 1, 2)\n",
    "    plt.plot(epochs, d_loss_history, label=\"Discriminator Loss\")\n",
    "    plt.yscale('log')  # Logarithmic scale for y-axis\n",
    "    plt.xticks(np.linspace(1, len(epochs), num=10, dtype=int))  # Ensure x-axis is integers only\n",
    "    plt.title(\"Discriminator Loss Over Epochs\")\n",
    "    plt.xlabel(\"Epoch\")\n",
    "    plt.ylabel(\"Loss (log scale)\")\n",
    "    plt.legend()\n",
    "\n",
    "    # Plot MSE loss (logarithmic scale)\n",
    "    plt.subplot(3, 1, 3)\n",
    "    plt.plot(epochs, mse_history, label=\"MSE Loss\")\n",
    "    plt.yscale('log')  # Logarithmic scale for y-axis\n",
    "    plt.xticks(np.linspace(1, len(epochs), num=10, dtype=int))  # Ensure x-axis is integers only\n",
    "    plt.title(\"MSE Loss Over Epochs\")\n",
    "    plt.xlabel(\"Epoch\")\n",
    "    plt.ylabel(\"MSE (log scale)\")\n",
    "    plt.legend()\n",
    "\n",
    "    # Adjust layout\n",
    "    plt.tight_layout()\n",
    "    plt.show()\n",
    "\n",
    "\n",
    "# Function to generate and plot the histograms with batch processing\n",
    "def plot_sinr_histograms(real_data, generated_data, title=\"SINR Distribution Comparison\"):\n",
    "    \"\"\"\n",
    "    Plots histograms of real and generated SINR data.\n",
    "\n",
    "    Args:\n",
    "        real_data (np.array): Real SINR data (flattened).\n",
    "        generated_data (np.array): Generated SINR data (flattened).\n",
    "        title (str): Title of the plot.\n",
    "    \"\"\"\n",
    "    plt.figure(figsize=(10, 6))\n",
    "    \n",
    "    # Plot histograms with a log-scaled x-axis\n",
    "    plt.hist(real_data, bins=300, alpha=0.6, color=\"blue\", label=\"Real SINR\", log=True)\n",
    "    plt.hist(generated_data, bins=100, alpha=0.6, color=\"orange\", label=\"Generated SINR\", log=True)\n",
    "    \n",
    "    plt.xscale('log')  # Logarithmic x-axis for better visualization of skewed data\n",
    "    plt.title(title)\n",
    "    plt.xlabel(\"SINR Value (log scale)\")\n",
    "    plt.ylabel(\"Frequency\")\n",
    "    plt.legend()\n",
    "    plt.show()\n",
    "\n",
    "\n",
    "# Generate fake SINR maps in batches to avoid memory overload\n",
    "def generate_fake_sinr_in_batches(generator, observed_sinr, latent_dim, batch_size=1000):\n",
    "    \"\"\"\n",
    "    Generates fake SINR maps using the generator model in smaller batches.\n",
    "\n",
    "    Args:\n",
    "        generator (tf.keras.Model): The generator model.\n",
    "        observed_sinr (np.array): Observed SINR data (for conditioning).\n",
    "        latent_dim (int): Latent dimension for random noise.\n",
    "        batch_size (int): The size of each batch for generation.\n",
    "\n",
    "    Returns:\n",
    "        generated_sinr (np.array): Generated SINR data (flattened).\n",
    "    \"\"\"\n",
    "    num_samples = observed_sinr.shape[0]\n",
    "    generated_sinr_flat = []\n",
    "\n",
    "    for start_idx in range(0, num_samples, batch_size):\n",
    "        end_idx = min(start_idx + batch_size, num_samples)\n",
    "\n",
    "        # Slice the observed SINR data for the current batch\n",
    "        observed_sinr_batch = observed_sinr[start_idx:end_idx]\n",
    "\n",
    "        # Random latent vectors for the batch\n",
    "        random_latent_vectors = tf.random.normal(shape=(observed_sinr_batch.shape[0], latent_dim))\n",
    "\n",
    "        # Flatten observed_sinr to concatenate with random noise\n",
    "        observed_sinr_flat_batch = observed_sinr_batch.reshape(observed_sinr_batch.shape[0], -1)\n",
    "\n",
    "        # Concatenate random noise with observed SINR values\n",
    "        generator_input = tf.concat([random_latent_vectors, observed_sinr_flat_batch], axis=1)\n",
    "\n",
    "        # Generate fake SINR maps for the current batch\n",
    "        generated_sinr_batch = generator(generator_input).numpy().flatten()\n",
    "\n",
    "        # Append to the list of generated SINR\n",
    "        generated_sinr_flat.append(generated_sinr_batch)\n",
    "\n",
    "    # Concatenate all the generated SINR batches\n",
    "    return np.concatenate(generated_sinr_flat)\n",
    "\n",
    "\n",
    "# Plot the losses after training\n",
    "plot_losses(loss_history.g_loss_history, loss_history.d_loss_history, loss_history.mse_history)\n",
    "\n",
    "# Flatten the real SINR data for histogram comparison\n",
    "real_sinr_flat = sinr_data.flatten()\n",
    "print(f\"Real SINR shape: {real_sinr_flat.shape}\")\n",
    "\n",
    "# Generate fake SINR maps in batches and flatten them\n",
    "generated_sinr_flat = generate_fake_sinr_in_batches(generator, observed_sinr, latent_dim)\n",
    "print(f\"Generated SINR shape: {generated_sinr_flat.shape}\")\n",
    "\n",
    "# Plot the histograms\n",
    "plot_sinr_histograms(\n",
    "    real_sinr_flat, generated_sinr_flat, title=\"Comparison of Real and Generated SINR Distributions\"\n",
    ")"
   ]
  },
  {
   "cell_type": "code",
   "execution_count": 16,
   "metadata": {},
   "outputs": [
    {
     "name": "stdout",
     "output_type": "stream",
     "text": [
      "Generated SINR samples shape: (5, 144)\n",
      "Generated SINR samples [0]: \n",
      "[0.00804057 0.00502846 0.01149961 0.0055954  0.00898959 0.00293065\n",
      " 0.01026832 0.00524311 0.00945186 0.00460362 0.00675068 0.00771415\n",
      " 0.00560884 0.00417873 0.00498169 0.00541182 0.00443971 0.00345044\n",
      " 0.00660878 0.00698609 0.0058109  0.00667617 0.00391282 0.00708543\n",
      " 0.01115896 0.00293277 0.01712263 0.00226865 0.01574938 0.00098066\n",
      " 0.01520788 0.00294018 0.0138322  0.00096645 0.01069359 0.00388759\n",
      " 0.00570376 0.00526343 0.00478181 0.00504181 0.00350511 0.00260949\n",
      " 0.00440737 0.00596179 0.00454017 0.00438258 0.00349749 0.00484905\n",
      " 0.0078638  0.00239994 0.01381323 0.00114954 0.0202981  0.0009031\n",
      " 0.02094889 0.00191407 0.01728191 0.00035268 0.01477327 0.00328621\n",
      " 0.00440611 0.00324509 0.00298326 0.00234417 0.00228044 0.00255218\n",
      " 0.00243935 0.00412321 0.0008052  0.00068521 0.00152998 0.00377156\n",
      " 0.01056015 0.00344892 0.01435544 0.00275023 0.02353197 0.00094891\n",
      " 0.02636835 0.00244085 0.02263536 0.00085554 0.01754021 0.00434726\n",
      " 0.00544592 0.00493816 0.00557711 0.00616861 0.00474792 0.0042113\n",
      " 0.00454057 0.00564998 0.0044378  0.00413302 0.00419125 0.00487648\n",
      " 0.01000143 0.00353434 0.01377497 0.0025992  0.01773412 0.00041112\n",
      " 0.0220311  0.00138485 0.02073816 0.00148028 0.01476277 0.00561143\n",
      " 0.00566956 0.00535183 0.00470692 0.00532464 0.00121823 0.00088737\n",
      " 0.00165579 0.00284204 0.00328654 0.0034184  0.00444194 0.00687025\n",
      " 0.00654182 0.00686751 0.01023879 0.00537954 0.01412698 0.00224729\n",
      " 0.01967476 0.00467838 0.0158798  0.00432937 0.01147271 0.01004005\n",
      " 0.00805055 0.0085595  0.00732008 0.00773724 0.00699225 0.00648033\n",
      " 0.00754043 0.00690858 0.00801263 0.00782489 0.00878644 0.00932745]\n",
      "Real SINR samples shape: (5, 144)\n",
      "Real SINR samples [0]: \n",
      "[0.00364976 0.00381199 0.00397948 0.00415232 0.0043306  0.00451444\n",
      " 0.00470394 0.00489921 0.00510037 0.00530753 0.00552082 0.00574035\n",
      " 0.00596625 0.00619864 0.00643766 0.00668342 0.00693607 0.00719573\n",
      " 0.00746252 0.00773657 0.00801801 0.00830696 0.00860353 0.00890784\n",
      " 0.00921998 0.00954006 0.00986817 0.01020438 0.01054875 0.01090134\n",
      " 0.01126217 0.01163126 0.0120086  0.01239415 0.01278785 0.01318962\n",
      " 0.01359931 0.01401678 0.0144418  0.01487412 0.01531345 0.01575941\n",
      " 0.0162116  0.01666952 0.01713263 0.01760028 0.01807178 0.01854634\n",
      " 0.01902306 0.01950099 0.01997904 0.02045605 0.02093075 0.02140176\n",
      " 0.02186761 0.02232672 0.02277741 0.02321792 0.02364636 0.02406083\n",
      " 0.0244593  0.0248397  0.02519996 0.02553792 0.02585147 0.0261385\n",
      " 0.02639693 0.02662478 0.02682015 0.02698126 0.02710647 0.02719434\n",
      " 0.02724362 0.02725328 0.02722253 0.02715088 0.02703807 0.02688416\n",
      " 0.02668948 0.02645466 0.0261806  0.02586849 0.02551978 0.02513615\n",
      " 0.02471949 0.0242719  0.02379563 0.02329307 0.02276669 0.02221906\n",
      " 0.02165277 0.02107043 0.02047462 0.0198679  0.01925274 0.01863154\n",
      " 0.0180066  0.0173801  0.0167541  0.01613051 0.01551113 0.0148976\n",
      " 0.0142914  0.0136939  0.01310631 0.01252973 0.01196509 0.01141324\n",
      " 0.0108749  0.01035066 0.00984105 0.00934647 0.00886725 0.00840366\n",
      " 0.00795588 0.00752403 0.00710819 0.00670837 0.00632455 0.00595669\n",
      " 0.00560469 0.00526845 0.00494783 0.00464268 0.00435285 0.00407818\n",
      " 0.00381847 0.00357357 0.00334329 0.00312747 0.00292592 0.00273851\n",
      " 0.00256507 0.00240547 0.00225957 0.00212727 0.00200847 0.00190309\n",
      " 0.00181106 0.00173235 0.00166692 0.00161479 0.00157596 0.0015505 ]\n"
     ]
    }
   ],
   "source": [
    "# Number of samples to generate\n",
    "num_samples = 5\n",
    "\n",
    "# Select a batch of observed SINR for the generator\n",
    "observed_sinr_batch = observed_sinr[:num_samples]\n",
    "\n",
    "# Generate random latent vectors\n",
    "random_latent_vectors = tf.random.normal(shape=(num_samples, latent_dim))\n",
    "\n",
    "# Flatten observed SINR for concatenation\n",
    "observed_sinr_flat = observed_sinr_batch.reshape(num_samples, -1)\n",
    "\n",
    "# Concatenate the random latent vectors with observed SINR\n",
    "generator_input = tf.concat([random_latent_vectors, observed_sinr_flat], axis=1)\n",
    "\n",
    "# Generate fake SINR maps\n",
    "generated_samples = generator(generator_input)\n",
    "\n",
    "# Reshape the generated samples to (num_samples, num_ports)\n",
    "num_ports = height * width  # Calculate the total number of ports\n",
    "concatenated_samples = generated_samples.numpy().reshape(num_samples, num_ports)\n",
    "\n",
    "# Get the real SINR data and reshape it to match (num_samples, num_ports)\n",
    "real_sinr = sinr_data[:num_samples].reshape(num_samples, num_ports)\n",
    "\n",
    "# Print the generated samples\n",
    "print(f\"Generated SINR samples shape: {concatenated_samples.shape}\")\n",
    "print(f\"Generated SINR samples [0]: \\n{concatenated_samples[0]}\")\n",
    "\n",
    "# Print the real samples\n",
    "print(f\"Real SINR samples shape: {real_sinr.shape}\")\n",
    "print(f\"Real SINR samples [0]: \\n{real_sinr[0]}\")\n"
   ]
  }
 ],
 "metadata": {
  "kernelspec": {
   "display_name": ".venv",
   "language": "python",
   "name": "python3"
  },
  "language_info": {
   "codemirror_mode": {
    "name": "ipython",
    "version": 3
   },
   "file_extension": ".py",
   "mimetype": "text/x-python",
   "name": "python",
   "nbconvert_exporter": "python",
   "pygments_lexer": "ipython3",
   "version": "3.10.12"
  }
 },
 "nbformat": 4,
 "nbformat_minor": 2
}
